{
 "cells": [
  {
   "cell_type": "markdown",
   "id": "82728b50-cf45-4e83-902a-b03db7946cf4",
   "metadata": {},
   "source": [
    "# Using Case Objects<a class=\"anchor\" id=\"using-case\"></a>\n",
    "Here, we will highlight some of the usefule features of case objects, starting from restoring and plotting data, to running parameter scans.\n",
    "\n",
    "## TOC:\n",
    "* [Restoring a UEDGE case](#restoring)\n",
    "    * [From an input file](#inputfile)\n",
    "    * [From a save file](#savefile)\n",
    "    * [From memory](#memory)\n",
    "    * [As a static Case](#static)\n",
    "    * [Case options](#caseoptions)\n",
    "* [Getting information about UEDGE using UETOOLS](#information)\n",
    "    * [Information about setup](#aboutsetup)\n",
    "    * [Search variable by name](#searchvarname)\n",
    "    * [Search variable description](#search)\n",
    "    * [Get variable information](#about)\n",
    "    * [Access variable descriptors](#descriptors)\n",
    "* [Managing UEDGE data using UETOOLS](#managing-data)\n",
    "    * [Case.populate](#populate)\n",
    "    * [Case.get](#get)\n",
    "    * [Case.setue](#setue)\n",
    "    * [Case.assign](#assign)\n",
    "* [Saving and restoring](#save_restore)\n",
    "    * [Case.restore_save](#restore)\n",
    "    * [Case.save](#save)\n",
    "\n",
    "## Restoring a UEDGE case<a class=\"anchor\" id=\"restoring\"></a>\n",
    "The first thing to do, is to restore a UEDGE case. Here, we will look at a few different ways of doing so.\n",
    "\n",
    "### Restoring a UEDGE case from an input file<a class=\"anchor\" id=\"inputfile\"></a>\n",
    "UETOOLS can restore UEDGE cases from YAML input files. To do this, you need to have a case set up for usage with an input file. Such an example has been provided as part of the notebook. More information on setting up a YAML input file and UEDGE cases in general, can be found under the relevant sections of the UETOOLS and UEDGE manuals, respectively. \n",
    "\n",
    "Now, let's navigate to the folder containing a UEDGE example case and restore the UEDGE case:"
   ]
  },
  {
   "cell_type": "code",
   "execution_count": 1,
   "id": "5650d62f-9f45-4c8c-ab03-cf5d9d8a31e0",
   "metadata": {},
   "outputs": [
    {
     "name": "stdout",
     "output_type": "stream",
     "text": [
      "UEDGE configuration file /Users/holm10/.uetoolsrc read.\n",
      "Saved solution successfully restored from nc20.hdf5\n",
      "\n",
      "*** UEDGE arrays populated: Case appears converged ***\n",
      "fnrm without preconditioning: 2.27e+00\n",
      "\n"
     ]
    }
   ],
   "source": [
    "# Navigate to the example folder\n",
    "from os import chdir\n",
    "chdir('testcase_hires')\n",
    "# Restore the case\n",
    "from uetools import Case\n",
    "c = Case('input.yaml') # Create a test at variable \"c\" from the YAML input file"
   ]
  },
  {
   "cell_type": "markdown",
   "id": "1a9d3f08-b7eb-427c-a2d8-d7b1d4ac73e0",
   "metadata": {},
   "source": [
    "As UETOOLS restores the case from the YAML file, it also checks whether the case is converged. As is evident from the output this example case is converged. The convergence check is done without precoditioning to quickly populate the UEDGE variables based on the case setup and the saved state. The same population of the variables and check for convergence can be done manually at any point, using Case.populate:"
   ]
  },
  {
   "cell_type": "code",
   "execution_count": 2,
   "id": "71cfc6b2",
   "metadata": {},
   "outputs": [
    {
     "name": "stdout",
     "output_type": "stream",
     "text": [
      "\n",
      "*** UEDGE arrays populated: Case appears converged ***\n",
      "fnrm without preconditioning: 2.27e+00\n",
      "\n"
     ]
    }
   ],
   "source": [
    "c.populate()"
   ]
  },
  {
   "cell_type": "markdown",
   "id": "bc4d44ef",
   "metadata": {},
   "source": []
  },
  {
   "cell_type": "code",
   "execution_count": 3,
   "id": "31ec09f1",
   "metadata": {},
   "outputs": [
    {
     "name": "stdout",
     "output_type": "stream",
     "text": [
      " Reading grid data from gridue.hdf5.hdf5 TARGET MATERIAL IS      GRAPHITE         \n",
      " BOMBARDING IONS ARE     D    \n",
      "\n",
      " Grid data read successfully:\n",
      "     file name:   gridue.hdf5.hdf5\n",
      "     run-ID:      EFITD    05/08/2002    #110465  3500ms                      \n",
      " iter=    0 fnrm=      2.272511486499118     nfe=      1\n",
      "\n",
      "\n",
      " nksol ---  iterm = 1.\n",
      "            maxnorm(sf*f(u)) .le. ftol, where maxnorm() is\n",
      "            the maximum norm function.  u is probably an\n",
      "            approximate root of f.\n",
      " Interpolants created; mype =                   -1\n"
     ]
    }
   ],
   "source": [
    "bbb.issfon = 0 # Do not precondition matrix\n",
    "bbb.ftol = 1e20 # Increase the tolerance to make a successful time-step, so that the UEDGE arrays are updated\n",
    "bbb.exmain() # Take time-step, calculating and updating all arrays\n",
    "# Remember to restore the default values\n",
    "bbb.issfon = 1\n",
    "bbb.ftol=1e-8 "
   ]
  },
  {
   "cell_type": "markdown",
   "id": "80b84abc-685c-4542-a1fb-74c17048a7b5",
   "metadata": {},
   "source": [
    "### Restoring a UEDGE case from a save file<a class=\"anchor\" id=\"savefile\"></a>\n",
    "Alternatively, UETOOL Case objects can also be restored from save-files, without the need of separate input or grid files, as discussed above. In order to create a Case object from a UETOOLS save-file, create a Case with the save-file path as argument:"
   ]
  },
  {
   "cell_type": "code",
   "execution_count": 4,
   "id": "421cc471-218d-4506-9b79-6b7b348825c2",
   "metadata": {},
   "outputs": [
    {
     "name": "stdout",
     "output_type": "stream",
     "text": [
      "UEDGE configuration file /Users/holm10/.uetoolsrc read.\n",
      "=================================================\n",
      "Restoring case from HDF5 file:\n",
      "  Rate dirs read from .uedgerc\n",
      "  Grid read from nc20.hdf5\n",
      "Saved solution successfully restored from nc20.hdf5\n",
      "\n",
      "*** UEDGE arrays populated: Case appears converged ***\n",
      "fnrm without preconditioning: 2.27e+00\n",
      "\n"
     ]
    }
   ],
   "source": [
    "c = Case('nc20.hdf5')"
   ]
  },
  {
   "cell_type": "markdown",
   "id": "eb464218-74e1-44c6-aa90-e835e19df963",
   "metadata": {},
   "source": [
    "As is evident from the above, restoring from a save-file is equivalent to restoring a save from an input file when using UETOOLS. Therefore, UEDGE cases can be transferred in a single file (barring any atomic and molecular rates, which are used when setting up the case).\n",
    "\n",
    "### Creating a Case object from memory<a class=\"anchor\" id=\"memory\"></a>\n",
    "In certain situations, it might be necessary to create a Case object without using either a YAML input or UETOOLS save-file, e.g. when the case only has a Python script \\*.py input file available. Under such circumstances, restore the case as one would normally do and, then, create a Case object wihtout any input arguments. This option creates a Case object reading all data from memory, and can be used for converging/analyzing the data:"
   ]
  },
  {
   "cell_type": "code",
   "execution_count": 5,
   "id": "fde106e1",
   "metadata": {},
   "outputs": [
    {
     "name": "stdout",
     "output_type": "stream",
     "text": [
      "UEDGE configuration file /Users/holm10/.uetoolsrc read.\n",
      "\n",
      "*** UEDGE arrays populated: Case appears converged ***\n",
      "fnrm without preconditioning: 2.27e+00\n",
      "\n"
     ]
    }
   ],
   "source": [
    "# <INITIALIZE THE CASE FIRST>\n",
    "c = Case()\n",
    "# Ensure the case is converged\n",
    "c.populate()"
   ]
  },
  {
   "cell_type": "markdown",
   "id": "01f28119",
   "metadata": {},
   "source": [
    "### Static Case objects<a class=\"anchor\" id=\"static\"></a>\n",
    "Static case objects are Case objects that do not interact with UEDGE but, rather, read data from a file created by UETOOLS, such as a save file. The save file contains a number of commonly-used arrays (see Case Options for more details), which can be accessed using UETOOLS without running UEDGE. Such Case objects are 'read-only', but very useful for accessing results of UEDGE quickly and effortlessly:"
   ]
  },
  {
   "cell_type": "code",
   "execution_count": 6,
   "id": "992dddba",
   "metadata": {},
   "outputs": [
    {
     "name": "stdout",
     "output_type": "stream",
     "text": [
      "UEDGE configuration file /Users/holm10/.uetoolsrc read.\n"
     ]
    }
   ],
   "source": [
    "c_static = Case('nc20.hdf5', inplace=True)"
   ]
  },
  {
   "cell_type": "markdown",
   "id": "85001db0",
   "metadata": {},
   "source": [
    "### Case options<a class=\"anchor\" id=\"caseoptions\"></a>\n",
    "When creating a case, there are a few keyword options available to the user, which might be useful:\n",
    "- inplace [=False]: When set to True, a Case is created contining only the UEDGE data in the file defined. This option is icompatible with reading YAML input files, and require specifying a data file of HDF5 type, created by UETOOLS (such as a save file).\n",
    "- variableyamlfile [=None]: Path to manually defined YAML file, defining additional data to be read/written to save files by UETOOLS. By default, uses the defaultvariables.yaml in UETOOLS/yamls\n",
    "- verbose [=True]: Setting to False supresses output of Case objects\n",
    "\n",
    "## Using Case objects to gain information on UEDGE setup and variables<a class=\"anchor\" id=\"information\"></a>\n",
    "The Case object has a number of useful utilities that can be used to interact with UEDGE. Some of these functions can be imported directly from UEDGE, whereas others cannot.\n",
    "\n",
    "### Getting an overview of the UEDGE case using Case.about_uedge_setup<a class=\"anchor\" id=\"aboutsetup\"></a>\n",
    "A utility for getting an overview of the setup of the UEDGE case currently being interacted with is available through the function Case.about_uedge_setup. Presently, the function returns information on the species included in the case in human-readable format. In the future, the plan is to expand the diagnostic capabilites to include information about recycling, pumpin, puffing, and boundary conditions as well."
   ]
  },
  {
   "cell_type": "code",
   "execution_count": 7,
   "id": "fac65441",
   "metadata": {},
   "outputs": [
    {
     "name": "stdout",
     "output_type": "stream",
     "text": [
      "The UEDGE set-up contains:\n",
      "  - 2 hydrogenic species:\n",
      "    - D ions\n",
      "    - Inertial D atoms\n",
      "  - 1 impurity species:\n",
      "    - Charge-state resolved C12\n",
      "      - Fully force-balance\n",
      "\n",
      "               0      1      2      3      4      5      6      7  \n",
      "Ion array : [  D+ ,   D0 ,  C+1 ,  C+2 ,  C+3 ,  C+4 ,  C+5 ,  C+6 ]\n",
      "Gas array : [  D0 ,   C0 ]\n"
     ]
    }
   ],
   "source": [
    "c.about_uedge_setup()"
   ]
  },
  {
   "cell_type": "markdown",
   "id": "bd3f709e",
   "metadata": {},
   "source": [
    "### Searching for variables by name using Case.searchvarname<a class=\"anchor\" id=\"searchvarname\"></a>\n",
    "Case objects can be used to search for UEDGE variables with names containing a partial string using the function Case.searchvarname. Note that the Case.searchvarname function is case-insensitive."
   ]
  },
  {
   "cell_type": "code",
   "execution_count": 8,
   "id": "acdcc16d",
   "metadata": {},
   "outputs": [
    {
     "data": {
      "text/plain": [
       "['rgrid1',\n",
       " 'igrid',\n",
       " 'isgriduehdf5',\n",
       " 'isoldgrid',\n",
       " 'ngrid',\n",
       " 'gengrid',\n",
       " 'manualgrid',\n",
       " 'gridmorph',\n",
       " 'GridFileName',\n",
       " 'rgrid1w',\n",
       " 'gridx',\n",
       " 'gridz']"
      ]
     },
     "execution_count": 8,
     "metadata": {},
     "output_type": "execute_result"
    }
   ],
   "source": [
    "c.searchvarname('Grid')"
   ]
  },
  {
   "cell_type": "markdown",
   "id": "69a67c59",
   "metadata": {},
   "source": [
    "### Searching for variable by description content using Case.search\n",
    "In case you do not know what a variable might be called, the description of all UEDGE variables can be searched using Case.search. Note that the Case.search function is case-insensitive."
   ]
  },
  {
   "cell_type": "code",
   "execution_count": 9,
   "id": "b787b243",
   "metadata": {},
   "outputs": [
    {
     "data": {
      "text/plain": [
       "['tebbb',\n",
       " 'res_te',\n",
       " 'del_te',\n",
       " 'tinit',\n",
       " 'te',\n",
       " 'tel',\n",
       " 'te0',\n",
       " 'te_pnc',\n",
       " 'tezag',\n",
       " 'tizag',\n",
       " 'shethp',\n",
       " 'te0_wdf',\n",
       " 'tehvt',\n",
       " 'etemp']"
      ]
     },
     "execution_count": 9,
     "metadata": {},
     "output_type": "execute_result"
    }
   ],
   "source": [
    "c.search('electron temperature')"
   ]
  },
  {
   "cell_type": "markdown",
   "id": "5c61a8ae",
   "metadata": {},
   "source": [
    "### Getting information on a variable using Case.about<a class=\"anchor\" id=\"about\"></a>\n",
    "To access information on a specific variable, the Case.about function can be used. Note that Case.about **is** case-sensitive."
   ]
  },
  {
   "cell_type": "code",
   "execution_count": 10,
   "id": "095e7cb2",
   "metadata": {},
   "outputs": [
    {
     "name": "stdout",
     "output_type": "stream",
     "text": [
      "Package:    bbb\n",
      "Group:      UEint\n",
      "Attributes: UEint input \n",
      "Dimension:  \n",
      "            (200)\n",
      "Type:       character(200)\n",
      "Address:    4421883400\n",
      "Pyaddress:  4412065424\n",
      "Unit:       \n",
      "Comment:\n",
      "name of Grid file to be read\n"
     ]
    }
   ],
   "source": [
    "c.about('GridFileName')"
   ]
  },
  {
   "cell_type": "markdown",
   "id": "7c07d8d4",
   "metadata": {},
   "source": [
    "### Accessing part of a variable description<a class=\"anchor\" id=\"descriptors\"></a>\n",
    "The different information available through Case.about can be accessed individually using the functions in uetools.UeUtils.Lookup, available through Case."
   ]
  },
  {
   "cell_type": "code",
   "execution_count": 11,
   "id": "108a8e49",
   "metadata": {},
   "outputs": [
    {
     "name": "stdout",
     "output_type": "stream",
     "text": [
      "Help on class Lookup in module uetools.UeUtils.Lookup:\n",
      "\n",
      "class Lookup(builtins.object)\n",
      " |  Methods defined here:\n",
      " |  \n",
      " |  about(self, variable)\n",
      " |      Prints *.v info available for variable\n",
      " |  \n",
      " |  aboutdict(self, variable)\n",
      " |      Creates dictionary contining information about variable\n",
      " |      \n",
      " |      Parses the infostring into parts based on the different\n",
      " |      attributes. Used by derived functions\n",
      " |  \n",
      " |  aboutparameter(self, variable, parameter)\n",
      " |      Returns the string of variable corresponding to parameter\n",
      " |  \n",
      " |  address(self, variable)\n",
      " |      Returns the Address string of variable\n",
      " |  \n",
      " |  attributes(self, variable)\n",
      " |      Returns the Attributes string of variable\n",
      " |  \n",
      " |  comment(self, variable)\n",
      " |      Returns the Comment string of variable\n",
      " |  \n",
      " |  dimension(self, variable)\n",
      " |      Returns the Dimension string of variable\n",
      " |  \n",
      " |  getpackage(self, var, verbose=True, **kwargs)\n",
      " |      Returns the package name of variable\n",
      " |  \n",
      " |  getpackobj(self, var, verbose=True, **kwargs)\n",
      " |      Returns the package object of variable\n",
      " |  \n",
      " |  group(self, variable)\n",
      " |      Returns the Group string of variable\n",
      " |  \n",
      " |  infostring(self, variable)\n",
      " |      Returns a string containing *.v contents of variable\n",
      " |  \n",
      " |  package(self, variable)\n",
      " |      Returns the Package string of variable\n",
      " |  \n",
      " |  pyaddress(self, variable)\n",
      " |      Returns the Pyaddress string of variable\n",
      " |  \n",
      " |  search(self, string)\n",
      " |      Returns list of variable with string in about\n",
      " |      \n",
      " |      Looks for the supplied string under Group, Attributes, and\n",
      " |      Comment in the about output for all variables.\n",
      " |  \n",
      " |  searchvarname(self, string)\n",
      " |      Returns all variables whose name contains string\n",
      " |  \n",
      " |  type(self, variable)\n",
      " |      Returns the Type string of variable\n",
      " |  \n",
      " |  unit(self, variable)\n",
      " |      Returns the Unit string of variable\n",
      " |  \n",
      " |  ----------------------------------------------------------------------\n",
      " |  Data descriptors defined here:\n",
      " |  \n",
      " |  __dict__\n",
      " |      dictionary for instance variables (if defined)\n",
      " |  \n",
      " |  __weakref__\n",
      " |      list of weak references to the object (if defined)\n",
      "\n",
      "te unit is:  J\n"
     ]
    }
   ],
   "source": [
    "from uetools.UeUtils.Lookup import Lookup\n",
    "help(Lookup)\n",
    "print('te unit is: ', c.unit('te'))"
   ]
  },
  {
   "cell_type": "markdown",
   "id": "22df5ec4",
   "metadata": {},
   "source": [
    "## Managing data using Case objects<a class=\"anchor\" id=\"managing-data\"></a>\n",
    "Here, managing UEDGE data using Case objects will be shortly discussed, assuming the case is run in a UEDGE session (e.g. inplace=False was used during the creation of the case). \n",
    "\n",
    "### Case.populate<a class=\"anchor\" id=\"populate\"></a>\n",
    "As already mentioned, Case.populate fills two functions:\n",
    "1. Populates all arrays in UEDGE based on the setup provided and the saved state\n",
    "2. Assesses whether the case is at steady-state or not "
   ]
  },
  {
   "cell_type": "code",
   "execution_count": 12,
   "id": "c5fb7c4b",
   "metadata": {},
   "outputs": [
    {
     "name": "stdout",
     "output_type": "stream",
     "text": [
      "\n",
      "*** UEDGE arrays populated: Case appears converged ***\n",
      "fnrm without preconditioning: 2.27e+00\n",
      "\n"
     ]
    }
   ],
   "source": [
    "c.populate()"
   ]
  },
  {
   "cell_type": "markdown",
   "id": "9c8f3ea4",
   "metadata": {},
   "source": [
    "Case.populate executes a series of UEDGE commands that computes all UEDGE arrays in a time-efficient manner without preconditioning the matrix to be solved. However, this results in an increase of the residuals from the level of numerical noise to values closer to unity. In general, cases are coverged if residuals calculated in this manner are <10, but likely not if they are >100. \n",
    "\n",
    "The populate function calls the following commands:"
   ]
  },
  {
   "cell_type": "code",
   "execution_count": 13,
   "id": "e09f4043",
   "metadata": {},
   "outputs": [
    {
     "name": "stdout",
     "output_type": "stream",
     "text": [
      " Reading grid data from nc20.hdf5.hdf5 TARGET MATERIAL IS      GRAPHITE         \n",
      " BOMBARDING IONS ARE     D    \n",
      "\n",
      " Grid data read successfully:\n",
      "     file name:   nc20.hdf5.hdf5\n",
      "     run-ID:      EFITD    05/08/2002    #110465  3500ms                      \n",
      " iter=    0 fnrm=      2.272511486499144     nfe=      1\n",
      "\n",
      "\n",
      " nksol ---  iterm = 1.\n",
      "            maxnorm(sf*f(u)) .le. ftol, where maxnorm() is\n",
      "            the maximum norm function.  u is probably an\n",
      "            approximate root of f.\n",
      " Interpolants created; mype =                   -1\n"
     ]
    }
   ],
   "source": [
    "bbb.issfon = 0 # Turn off preconditioning to quickly calculate arrays\n",
    "bbb.ftol = 1e20 # Ensure results are within tolerances to get a succesfull time-step so that all arrays are updated\n",
    "bbb.exmain() # Take a time-step\n",
    "# Restore the defaults \n",
    "bbb.issfon = 1\n",
    "bbb.ftol = 1e-8"
   ]
  },
  {
   "cell_type": "markdown",
   "id": "370357b6",
   "metadata": {},
   "source": [
    "### Case.get<a class=\"anchor\" id=\"get\"></a>\n",
    "The Case.get method is used to access UEDGE data or, in the case of inplace=True, data from a file. One advantage of Case.get over directly accessing the UEDGE variables, is that no knowlege of the packages each variable is defined in is necessary, contrary to directly accessing them from UEDGE. However, the usage of Case.get is equivalent to directly accessing variables from UEDGE when run in interactive mode:"
   ]
  },
  {
   "cell_type": "code",
   "execution_count": 14,
   "id": "0bc65ae9",
   "metadata": {},
   "outputs": [
    {
     "name": "stdout",
     "output_type": "stream",
     "text": [
      "Interactive ngsp:  2\n",
      "Static ngsp:  2\n",
      "UEDGE-accessed ngsp: 2\n"
     ]
    }
   ],
   "source": [
    "print(\"Interactive ngsp: \", c.get('ngsp'))\n",
    "print(\"Static ngsp: \", c_static.get('ngsp'))\n",
    "# Import UEDGE packages to prompt \n",
    "from uedge import *\n",
    "print(\"UEDGE-accessed ngsp:\", com.ngsp)"
   ]
  },
  {
   "cell_type": "markdown",
   "id": "a9e65eba",
   "metadata": {},
   "source": [
    "### Case.setue<a class=\"anchor\" id=\"setue\"></a>\n",
    "The Case.setue method can be used to the value of UEDGE variables. Naturally, this function is disabled for static Case objects. Again, the standard UEDGE variables can be used instead of using Case.setue:"
   ]
  },
  {
   "cell_type": "code",
   "execution_count": 15,
   "id": "146a2f81",
   "metadata": {},
   "outputs": [
    {
     "name": "stdout",
     "output_type": "stream",
     "text": [
      "ngsp after being set to 3 by setue: 3\n",
      "ngsp after being set natively in UEDGE: 2\n",
      "Exception('Cannot set/get UEDGE values when reading from HDF5 file')\n"
     ]
    }
   ],
   "source": [
    "c.setue(\"ngsp\", 3)\n",
    "print(\"ngsp after being set to 3 by setue:\", com.ngsp)\n",
    "com.ngsp = 2\n",
    "print(\"ngsp after being set natively in UEDGE:\",com.ngsp)\n",
    "try:\n",
    "    c_static.setue(\"ngsp\", 3)\n",
    "except Exception as e:\n",
    "    print(repr(e))"
   ]
  },
  {
   "cell_type": "markdown",
   "id": "80e614d9",
   "metadata": {},
   "source": [
    "**NOTE:** Changes made to the UEDGE variables are only transferred to the Case object after a time-step has been taken in UEDGE, executing the changes (either using Case.populate or exmain). Consequently, Case.get will return the old values until Case.populate or and exmain has been executed.\n",
    "\n",
    "### Case.assign<a class=\"anchor\" id=\"assign\"></a>\n",
    "The Case method uses mutex (mutually exclusive) checks to manage the shared UEDGE memory. This means, only one case interactive object can be active at any single time. Consequently, when a more than one Case object is created in the same Python session is created, only one can be used at a time:"
   ]
  },
  {
   "cell_type": "code",
   "execution_count": 16,
   "id": "e9d6eff5",
   "metadata": {},
   "outputs": [
    {
     "name": "stdout",
     "output_type": "stream",
     "text": [
      "UEDGE configuration file /Users/holm10/.uetoolsrc read.\n",
      "Saved solution successfully restored from nc20.hdf5\n",
      "\n",
      "*** UEDGE arrays populated: Case appears converged ***\n",
      "fnrm without preconditioning: 2.27e+00\n",
      "\n",
      "Mutex error! Object run-ID is 3, UEDGE run-ID is 4. Aborting.\n",
      "Exception(\"Case doesn't own UEDGE memory\")\n"
     ]
    }
   ],
   "source": [
    "c2 = Case(\"input.yaml\")\n",
    "try:\n",
    "    c.get(\"ngsp\")\n",
    "except Exception as e:\n",
    "    print(repr(e))"
   ]
  },
  {
   "cell_type": "markdown",
   "id": "b3e8dcfd",
   "metadata": {},
   "source": [
    "In order to return control to another Case object, the assign function can be used:"
   ]
  },
  {
   "cell_type": "code",
   "execution_count": 17,
   "id": "334cd708",
   "metadata": {},
   "outputs": [
    {
     "name": "stdout",
     "output_type": "stream",
     "text": [
      "WARNING: Expecting setup group 'grid'\n",
      "WARNING: Expecting setup group 'species'\n",
      "ngsp in Case object 'c':  2\n"
     ]
    }
   ],
   "source": [
    "c.assign()\n",
    "print(\"ngsp in Case object 'c': \", c.get(\"ngsp\"))"
   ]
  },
  {
   "cell_type": "markdown",
   "id": "0614887b",
   "metadata": {},
   "source": [
    "**NOTE:** When switching between cases there may be switches set in one case, but not in the other, which subsequently remain unset. Thus, using several cases in the same session is to be avoided, as they may be order-dependent. If several cases with different input files must be used within the same session, use Case.populate regularly to assure the settings of the case you are working with has not changed:"
   ]
  },
  {
   "cell_type": "code",
   "execution_count": 18,
   "id": "9ca67e84",
   "metadata": {},
   "outputs": [
    {
     "name": "stdout",
     "output_type": "stream",
     "text": [
      "\n",
      "*** UEDGE arrays populated: Case appears converged ***\n",
      "fnrm without preconditioning: 2.27e+00\n",
      "\n"
     ]
    }
   ],
   "source": [
    "c.populate()"
   ]
  },
  {
   "cell_type": "markdown",
   "id": "106443e0",
   "metadata": {},
   "source": [
    "## Saving and restoring UEDGE states<a class=\"anchor\" id=\"save_restore\"></a>\n",
    "\n",
    "Here, the workings of UEDGE when saving and restoring a previous state will be briefly discussed, and some useful functionalities of UETOOLS will be presented. \n",
    "\n",
    "The current state of a UEDGE case is defined by a number of \"state\" variables, separate from their evolving counterparts. Such variables are differentiated by an appended \"s\", such as \"te\" vs \"tes\". Any changes to \"te\" will not affect the current UEDGE state, whereas changes to \"tes\" will. When a change to a \"state\" variable is made, the change will remain in that variable only until a successful time-step, e.g. exmain-evaluation, has been performed. Then, UEDGE will sync the \"state\" and regular variables.  "
   ]
  },
  {
   "cell_type": "code",
   "execution_count": 19,
   "id": "ac31c4d8",
   "metadata": {},
   "outputs": [
    {
     "name": "stdout",
     "output_type": "stream",
     "text": [
      "\n",
      "*** UEDGE arrays populated: Case appears converged ***\n",
      "fnrm without preconditioning: 2.27e+00\n",
      "\n",
      "te[10,10] before:  1.1729813231213502e-17\n",
      "\n",
      "*** UEDGE arrays populated: Case appears converged ***\n",
      "fnrm without preconditioning: 2.27e+00\n",
      "\n",
      "te[10,10] after:  1.1729813231213502e-17\n"
     ]
    }
   ],
   "source": [
    "c.populate()\n",
    "print(\"te[10,10] before: \", bbb.te[10,10])\n",
    "bbb.te[10,10] = 1e18\n",
    "c.populate()\n",
    "print(\"te[10,10] after: \", bbb.te[10,10])"
   ]
  },
  {
   "cell_type": "markdown",
   "id": "34dd98e8",
   "metadata": {},
   "source": [
    "As can be seen from the above example, making a change to \"te\" does not affect the UEDGE solution, as UEDGE reads the current state from \"tes\". Because Case.populate involves evaluating exmain() (see above), a successful time-step is enforced and \"te\" is updated to correspond to the original \"tes\" array, which remained unchanged. This explains the, perhaps somewhat unexpected, behavior observed."
   ]
  },
  {
   "cell_type": "code",
   "execution_count": 20,
   "id": "d56f791d",
   "metadata": {},
   "outputs": [
    {
     "name": "stdout",
     "output_type": "stream",
     "text": [
      "\n",
      "*** UEDGE arrays populated: Case appears converged ***\n",
      "fnrm without preconditioning: 2.27e+00\n",
      "\n",
      "te[10,10] before: 1.173e-17\n",
      "\n",
      "*** UEDGE arrays populated: WARNING, case NOT converged ***\n",
      "fnrm without preconditioning: 5.58e+05\n",
      "\n",
      "te[10,10] after: 2.000e-17\n"
     ]
    }
   ],
   "source": [
    "c.populate()\n",
    "print(\"te[10,10] before: {:.3e}\".format(bbb.te[10,10]))\n",
    "bbb.tes[10,10] = 2e-17\n",
    "c.populate()\n",
    "print(\"te[10,10] after: {:.3e}\".format(bbb.te[10,10]))"
   ]
  },
  {
   "cell_type": "markdown",
   "id": "5f13735f",
   "metadata": {},
   "source": [
    "In the above example, \"tes\" is changed, resulting in a change to the UEDGE state, which now is perturbed from its steady-state, resulting in residuals much above the numerical noise, indicating the case is no longer converged.\n",
    "\n",
    "### Restoring a UEDGE state using Case.restore_save<a class=\"anchor\" id=\"restore\"></a>\n",
    "UETOOLS has internal capabilites for finding, reading and restoring the appropriate data from a file:"
   ]
  },
  {
   "cell_type": "code",
   "execution_count": 21,
   "id": "363191db",
   "metadata": {},
   "outputs": [
    {
     "name": "stdout",
     "output_type": "stream",
     "text": [
      "te[10,10] before: 2.000e-17\n",
      "Saved solution successfully restored from nc20.hdf5\n",
      "\n",
      "*** UEDGE arrays populated: Case appears converged ***\n",
      "fnrm without preconditioning: 2.27e+00\n",
      "\n",
      "te[10,10] after: 1.173e-17\n"
     ]
    }
   ],
   "source": [
    "print(\"te[10,10] before: {:.3e}\".format(bbb.te[10,10]))\n",
    "c.restore_save('nc20.hdf5')\n",
    "print(\"te[10,10] after: {:.3e}\".format(bbb.te[10,10]))"
   ]
  },
  {
   "cell_type": "markdown",
   "id": "4c1d51f7",
   "metadata": {},
   "source": [
    "As can be seen from above, restoring the saved state returns the residuals as well as \"te\" to their initial values.\n",
    "\n",
    "### Saving a UEDGE state using Case.save<a class=\"anchor\" id=\"save\"></a>\n",
    "Whenever a UEDGE case has been reconverged (as explained in Ch. 4), the current UEDGE state should be saved for later recovery:"
   ]
  },
  {
   "cell_type": "code",
   "execution_count": 22,
   "id": "0f77ddc7",
   "metadata": {},
   "outputs": [
    {
     "name": "stdout",
     "output_type": "stream",
     "text": [
      "testsave.hdf5 before:\n",
      "-rw-r--r--  1 holm10  27647  1288208 Feb 27 13:39 testsave.hdf5\n",
      "testsave.hdf5 after:\n",
      "-rw-r--r--  1 holm10  27647  1288208 Feb 27 17:15 testsave.hdf5\n"
     ]
    }
   ],
   "source": [
    "print(\"testsave.hdf5 before:\")\n",
    "!ls -lrt testsave.hdf5\n",
    "\n",
    "# Save state\n",
    "c.save('testsave.hdf5')\n",
    "\n",
    "print(\"testsave.hdf5 after:\")\n",
    "!ls -lrt testsave.hdf5"
   ]
  }
 ],
 "metadata": {
  "kernelspec": {
   "display_name": "Python 3 (ipykernel)",
   "language": "python",
   "name": "python3"
  },
  "language_info": {
   "codemirror_mode": {
    "name": "ipython",
    "version": 3
   },
   "file_extension": ".py",
   "mimetype": "text/x-python",
   "name": "python",
   "nbconvert_exporter": "python",
   "pygments_lexer": "ipython3",
   "version": "3.11.4"
  }
 },
 "nbformat": 4,
 "nbformat_minor": 5
}
