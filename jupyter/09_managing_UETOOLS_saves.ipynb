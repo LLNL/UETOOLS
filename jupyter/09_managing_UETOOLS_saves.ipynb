{
 "cells": [
  {
   "cell_type": "markdown",
   "id": "1ac899e0",
   "metadata": {},
   "source": [
    "# Managing UETOOLS saves\n",
    "\n",
    "This section explains how data is written to the UETOOLS save-file and how it can be controlled using UETOOLS. \n",
    "\n",
    "\n",
    "## TOC:\n",
    "* [The variable-specifier YAML files](#yaml-specifiers)\n",
    "    * [Required variable YAML specifier](#required-yaml)\n",
    "    * [Optional variable YAML specifier](#optional-yaml)\n",
    "    * [YAMLs in Case objects](#yamls-in-cases)\n",
    "* [User-supplied variable YAML specifiers](#user-supplied-yamls)\n",
    "* [The UETOOLS save-file](#save-files)\n",
    "* [Using UETOOLS without UEDGE](#uetools-without-uedge)\n",
    "* [Case.dump](#case-dump)\n",
    "    \n"
   ]
  },
  {
   "cell_type": "code",
   "execution_count": 1,
   "id": "db194a08",
   "metadata": {},
   "outputs": [],
   "source": [
    "# Move to the folder containing the parameter scans\n",
    "from os import chdir\n",
    "from uetools import Case\n",
    "chdir('testcase_lores')\n",
    "c=Case(\"input.yaml\")"
   ]
  },
  {
   "cell_type": "markdown",
   "id": "1239c8ff",
   "metadata": {},
   "source": [
    "## The variable-specifier YAML files<a class=\"anchor\" id=\"yaml-specifiers\"></a>\n",
    "The behavior of the UETOOLS save-function is controlled by two external YAML files. One specifies the minimun number of variables required to be saved to have a recoverable UEDGE case from a UETOOLS save file and the other provides the user with the option to specify variables to be stored in the save-files. Below follows a description of each YAML specifier.\n",
    "\n",
    "### Required variable YAML specifier<a class=\"anchor\" id=\"required-yaml\"></a>\n",
    "This file containint the minimum number of variables for a case to be recoverable is always read from the UETOOLS module. The YAML file structure is shown below:"
   ]
  },
  {
   "cell_type": "code",
   "execution_count": 2,
   "id": "99bf7201",
   "metadata": {
    "scrolled": true
   },
   "outputs": [],
   "source": [
    "!more ../../src/uetools/yamls/requiredvariables.yaml | head -100\n"
   ]
  },
  {
   "cell_type": "markdown",
   "id": "7b9988b6",
   "metadata": {},
   "source": [
    "It is, however, useful to consider the resulting Python dictionary, which is used by UETOOLS for defining the variables that are always included in the save-file:"
   ]
  },
  {
   "cell_type": "code",
   "execution_count": 3,
   "id": "a67fe0e0",
   "metadata": {},
   "outputs": [],
   "source": [
    "required = c.readyaml(\"../../src/uetools/yamls/requiredvariables.yaml\")\n",
    "print(\"requiredvariables.yaml contains the following variable decks:\")\n",
    "print(60*\"=\")\n",
    "for deck in required.keys():\n",
    "    print(\"-\", deck)"
   ]
  },
  {
   "cell_type": "markdown",
   "id": "78de001f",
   "metadata": {},
   "source": [
    "Each of the variable \"decks\" contains the UEDGE packages ot the variables as subdictionaries according to the specifier YAML file, and terminates at the third level with a list of variables in that package to be saved:"
   ]
  },
  {
   "cell_type": "code",
   "execution_count": 4,
   "id": "b9c0519d",
   "metadata": {},
   "outputs": [],
   "source": [
    "print(\"<restore>\")\n",
    "for packagekey, package in required[\"restore\"].items():\n",
    "    print(\"    \",packagekey)\n",
    "    for variable in package:\n",
    "        print(\"        -\", variable)"
   ]
  },
  {
   "cell_type": "markdown",
   "id": "0ec23779",
   "metadata": {},
   "source": [
    "Each of the variable decks specify the required variables for a specific part of the code:\n",
    " - restore: contains the state-variables, used to restore the state of the equation\n",
    " \n",
    " - grid: contains the data required to construc the computational mesh\n",
    "    - Some additional data is stored to ensure plotting routines will work and that data from the EFIT files are not lost when reading grids from a file\n",
    "    \n",
    "- diffusivities: contains the diffusivity profiles, in case they are used\n",
    "    - All of the variables are stored regardless of the model used in each case\n",
    "    - For more information, see Chapter 7\n",
    "    \n",
    "- setup: a small set of miscellaneous variables that defines the case setup\n",
    "\n",
    "All of the above data is automatically read from the appropriate YAML file supplied by the UETOOLS module, and stored to UETOOLS save-files.\n",
    "\n",
    "### Optional variable YAML specifier<a class=\"anchor\" id=\"optional-yaml\"></a>\n",
    "Additional to be written to the UETOOLS save-files can be specified/controlled using an external YAML file. In case no user-specified YAML file is defined when creating a Case-object, a default YAML files is used to specify additional data to be written to the save file:"
   ]
  },
  {
   "cell_type": "code",
   "execution_count": 5,
   "id": "b2f35d90",
   "metadata": {},
   "outputs": [],
   "source": [
    "!more ../../uetools/yamls/standardvariables.yaml | head -n 150"
   ]
  },
  {
   "cell_type": "markdown",
   "id": "ffb0f2b4",
   "metadata": {},
   "source": [
    "The optinal variable YAML specifier has the same structure as the required variable YAML specifier: the first level specifies variable \"decks\", which contain the UEDGE packages where the variables are located, and the third level contains a list of variables to be written to the save file. There are no restrictions on the number of variable decks or variables within the decks that are written to the save-file. \n",
    "\n",
    "The Python structure of the above file is the following:"
   ]
  },
  {
   "cell_type": "code",
   "execution_count": 6,
   "id": "7186609b",
   "metadata": {},
   "outputs": [],
   "source": [
    "optional = c.readyaml(\"../../src/uetools/yamls/standardvariables.yaml\")\n",
    "print(\"satndardvariables.yaml contains the following variable decks:\")\n",
    "print(60*\"=\")\n",
    "for deck in optional.keys():\n",
    "    print(\"-\", deck)"
   ]
  },
  {
   "cell_type": "markdown",
   "id": "66006070",
   "metadata": {},
   "source": [
    "The variables specified in each of the above decks are variables that are used by various internal UETOOLS functions, which is why they have been included. Removing any of the variables may break certain UETOOLS functionalities, but should not affect the ability to restore cases from YAML inputs/UTEOOLS save files."
   ]
  },
  {
   "cell_type": "markdown",
   "id": "24b3a28e",
   "metadata": {},
   "source": [
    "### YAMLs in Case objects<a class=\"anchor\" id=\"yamls-in-cases\"></a>\n",
    "The two YAML specifiers are concatenated and stored to the UETOOLS Case object, and the dictionary is accessed when Case.save is called. Case.save iterates the dictionary and stores every variable in the save-file using the structure specified by the save-files."
   ]
  },
  {
   "cell_type": "code",
   "execution_count": 7,
   "id": "a3c113b6",
   "metadata": {},
   "outputs": [],
   "source": [
    "print(\"The Case object contains the following variable decks:\")\n",
    "print(60*\"=\")\n",
    "for deck in c.varinput.keys():\n",
    "    print(\"-\", deck)"
   ]
  },
  {
   "cell_type": "markdown",
   "id": "adbb010b",
   "metadata": {},
   "source": [
    "## User-supplied variable YAML specifiers<a class=\"anchor\" id=\"user-supplied-yamls\"></a>\n",
    "As mentioned above, the optional YAML specifier can be a user-specified YAML file, rather than the standard YAML file. The optional YAML specifier can be specified either by configuring the .uetoolsrc file using Case.CreatConfig function (see Chapter 1), editing the .uetoolsrc-file manually, or by supplying the kwarg \"variableyamlfile\" when a Case object is created. \n",
    "\n",
    "\n",
    "    \n",
    "The kwarg \"variableyamlfile\" takes precedence over any other optional variable YAML specifiers. If the kwarg is not used when a Case object is created, UETOOLS will look for the \"variableyamlfile\" in the .uetoolsrc YAML file. The \"variableyamlfile\" can be added to .uetoolsrc (located in the user HOME-directory) by re-running the Case.CreateConfig function and following the prompts. Alternatively, the \"variableyamlfile\" argument can be added manually by editing the .uetoolsrc-file (or creating it in the user HOME-directory, if it does not exist) and adding the following line:\n",
    "\n",
    "    variableyamlfile: <path to optional variable YAML specifier>\n",
    "    \n",
    "**NOTE:** as mentioned above, removing variables compared to the default YAML file may result in some functionalities of UETOOLS no longer working. \n",
    "\n",
    "**NOTE:** when implementing functionalities to UETOOLS that require additional variables to be available from save-files that are added to a user's optional variable YAML specifiers, other users' YAML specifiers may not contain the additional data, causing the funcitonality to fail. Thus, it is recommended to update the UETOOLS default optional variable YAML specifier in pull-requests that add capabilities to UETOOLS, which assumes some data to be available in the save-files.\n",
    "\n",
    "## The UETOOLS save-file<a class=\"anchor\" id=\"save-files\"></a>\n",
    "Now that YAML specifiers are understood, it is time to look at the data written to UETOOLS save-files by Case.save:"
   ]
  },
  {
   "cell_type": "code",
   "execution_count": 8,
   "id": "b60c052c",
   "metadata": {},
   "outputs": [],
   "source": [
    "c.hdf5tree(\"nc20.hdf5\", depth=1)"
   ]
  },
  {
   "cell_type": "markdown",
   "id": "69dca23e",
   "metadata": {},
   "source": [
    "As can be seen, all the variable decks specified by the two YAML specifiers are also present in the save-file. Additionally, the structure defined by the YAML specifier is preserved throughout:"
   ]
  },
  {
   "cell_type": "code",
   "execution_count": 9,
   "id": "c758c9f1",
   "metadata": {},
   "outputs": [],
   "source": [
    "c.hdf5tree(\"nc20.hdf5\", \"restore\")"
   ]
  },
  {
   "cell_type": "markdown",
   "id": "64fdf8e0",
   "metadata": {},
   "source": [
    "There is, however, a group written to the save-file, which is **not** included in the YAML specifiers, namely the \"setup\" group:"
   ]
  },
  {
   "cell_type": "code",
   "execution_count": 10,
   "id": "d391b449",
   "metadata": {},
   "outputs": [],
   "source": [
    "c.hdf5tree(\"nc20.hdf5\", \"setup\", depth=1)"
   ]
  },
  {
   "cell_type": "markdown",
   "id": "d614d4e4",
   "metadata": {},
   "source": [
    "The setup group, as seen above, contains the input decks specified in the input file, along with any subdecks and vairables specified in each:"
   ]
  },
  {
   "cell_type": "code",
   "execution_count": 11,
   "id": "3c4af6d3",
   "metadata": {},
   "outputs": [],
   "source": [
    "c.hdf5tree(\"nc20.hdf5\", \"setup/atoms\")"
   ]
  },
  {
   "cell_type": "markdown",
   "id": "bd6d4b1c",
   "metadata": {},
   "source": [
    "Thus, the save-file contains a virtual copy of the UETOOLS input file used to define the case. Any changes to any of the variables defined in the input file will also be updated as they are changed and a save-file written.\n",
    "\n",
    "The special group \"setup/detected\" is also added to all save-files to keep track of changes to input variables which are **not** specified in the UETOOLS YAML input file if changed:"
   ]
  },
  {
   "cell_type": "code",
   "execution_count": 12,
   "id": "048d8be0",
   "metadata": {},
   "outputs": [],
   "source": [
    "c.hdf5tree(\"nc20.hdf5\", \"setup/detected\")"
   ]
  },
  {
   "cell_type": "markdown",
   "id": "64f2ae49",
   "metadata": {},
   "source": [
    "As can be seen, these are the same variables for which changes are detected for, as discussed in Chapter 4. It is this automatical tracking and storing of changes to input variables that allows UETOOLS to use its save-files as standalone setups for UEDGE cases.\n",
    "\n",
    "## Using UETOOLS without UEDGE<a class=\"anchor\" id=\"uetools-without-uedge\"></a>\n",
    "Because UETOOLS saves all the data required by UETOOLS functionalities, this means that UETOOLS can be used to process and investigate UEDGE saves without starting UEDGE. In fact, all UETOOLS functionalities can be used without having UEDGE installed, provided Case objects are created using the inplace=True option (Chapter 2), or the data is analyzed using Database-objects (Chapter 4). \n",
    "\n",
    "## Case.dump<a class=\"anchor\" id=\"case-dump\"></a>\n",
    "There are, however, situations when a a complete UEDGE state may need to be archived or analyzed outside of UEDGE. For such exceptions, the Case.dump function can be used to write **all** UEDGE variables to a UETOOLS save-file. This save-file is a complete archive of the UEDGE case, and any UEDGE variable available can be accessed using UETOOLS.\n",
    "\n",
    "**NOTE:** because UEDGE has ~3700 variables, the on-disk size of a UETOOLS dump for a UEDGE case with 7 ion and 2 gas species on a 106x46 grid is 1.1 Gb. Thus, it is not feasible to create dumps for all files. In contrast, the save-file for the same case, using the default variables written, was 9.2 Mb."
   ]
  }
 ],
 "metadata": {
  "kernelspec": {
   "display_name": "Python 3 (ipykernel)",
   "language": "python",
   "name": "python3"
  },
  "language_info": {
   "codemirror_mode": {
    "name": "ipython",
    "version": 3
   },
   "file_extension": ".py",
   "mimetype": "text/x-python",
   "name": "python",
   "nbconvert_exporter": "python",
   "pygments_lexer": "ipython3",
   "version": "3.11.4"
  }
 },
 "nbformat": 4,
 "nbformat_minor": 5
}
