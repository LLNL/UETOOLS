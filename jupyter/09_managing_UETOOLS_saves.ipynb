{
 "cells": [
  {
   "cell_type": "markdown",
   "id": "1ac899e0",
   "metadata": {},
   "source": [
    "# Managing UETOOLS saves\n",
    "\n",
    "This section explains how data is written to the UETOOLS save-file and how it can be controlled using UETOOLS. \n",
    "\n",
    "\n",
    "## TOC:\n",
    "* [The variable-specifier YAML files](#yaml-specifiers)\n",
    "    * [Required variable YAML specifier](#required-yaml)\n",
    "    * [Optional variable YAML specifier](#optional-yaml)\n",
    "    * [YAMLs in Case objects](#yamls-in-cases)\n",
    "* [User-supplied variable YAML specifiers](#user-supplied-yamls)\n",
    "* [The UETOOLS save-file](#save-files)\n",
    "* [Using UETOOLS without UEDGE](#uetools-without-uedge)\n",
    "* [Case.dump](#case-dump)\n",
    "    \n"
   ]
  },
  {
   "cell_type": "code",
   "execution_count": 1,
   "id": "db194a08",
   "metadata": {},
   "outputs": [
    {
     "name": "stdout",
     "output_type": "stream",
     "text": [
      "UEDGE configuration file /Users/holm10/.uetoolsrc read.\n",
      "UETOOLS-style save successfully restored from /Users/holm10/Documents/fusion/uedge/src/UETOOLS/jupyter/testcase_lores/nc20.hdf5\n",
      "\n",
      "*** UEDGE arrays populated: Case appears converged ***\n",
      "fnrm without preconditioning: 1.54e+00\n",
      "\n"
     ]
    }
   ],
   "source": [
    "# Move to the folder containing the parameter scans\n",
    "from os import chdir\n",
    "from uetools import Case\n",
    "chdir('testcase_lores')\n",
    "c=Case(\"input.yaml\")"
   ]
  },
  {
   "cell_type": "markdown",
   "id": "1239c8ff",
   "metadata": {},
   "source": [
    "## The variable-specifier YAML files<a class=\"anchor\" id=\"yaml-specifiers\"></a>\n",
    "The behavior of the UETOOLS save-function is controlled by two external YAML files. One specifies the minimun number of variables required to be saved to have a recoverable UEDGE case from a UETOOLS save file and the other provides the user with the option to specify variables to be stored in the save-files. Below follows a description of each YAML specifier.\n",
    "\n",
    "### Required variable YAML specifier<a class=\"anchor\" id=\"required-yaml\"></a>\n",
    "This file containint the minimum number of variables for a case to be recoverable is always read from the UETOOLS module. The YAML file structure is shown below:"
   ]
  },
  {
   "cell_type": "code",
   "execution_count": 2,
   "id": "99bf7201",
   "metadata": {
    "scrolled": true
   },
   "outputs": [
    {
     "name": "stdout",
     "output_type": "stream",
     "text": [
      "# Required variables for UETOOLS to function\r\n",
      "# ====================================================\r\n",
      "# ======= DO NOT EDIT VARIABLES BELOW ================\r\n",
      "# ====================================================\r\n",
      "\r\n",
      "restore:\r\n",
      "    bbb:\r\n",
      "        - 'tes'\r\n",
      "        - 'tis'\r\n",
      "        - 'nis'\r\n",
      "        - 'ngs'\r\n",
      "        - 'tgs' \r\n",
      "        - 'ups'\r\n",
      "        - 'phis'\r\n",
      "        - 'restart'\r\n",
      "\r\n",
      "grid:\r\n",
      "    com:\r\n",
      "        - 'nx'\r\n",
      "        - 'ny'\r\n",
      "        - 'nxm'\r\n",
      "        - 'nym'\r\n",
      "        - 'ixlb'\r\n",
      "        - 'ixpt1'\r\n",
      "        - 'ixmdp'\r\n",
      "        - 'ixpt2'\r\n",
      "        - 'ixrb'\r\n",
      "        - 'iysptrx'\r\n",
      "        - 'iysptrx1'\r\n",
      "        - 'iysptrx2'\r\n",
      "        - 'nxleg'\r\n",
      "        - 'nxcore'\r\n",
      "        - 'nysol'\r\n",
      "        - 'nycore'\r\n",
      "        - 'rm'\r\n",
      "        - 'zm'\r\n",
      "        - 'bpol'\r\n",
      "        - 'bphi'\r\n",
      "        - 'b'\r\n",
      "        - 'br'\r\n",
      "        - 'vol'\r\n",
      "        - 'bz'\r\n",
      "        - 'psi'\r\n",
      "        - 'nlim'\r\n",
      "        - 'xlim'\r\n",
      "        - 'ylim'\r\n",
      "        - 'rbdry'\r\n",
      "        - 'zbdry'\r\n",
      "        - 'simagxs'\r\n",
      "        - 'sibdrys'\r\n",
      "        - 'runid'\r\n",
      "        - 'yyrb'\r\n",
      "        - 'yylb'\r\n",
      "        - 'rmagx'\r\n",
      "        - 'zmagx'\r\n",
      "        - 'nxomit'\r\n",
      "        - 'angfx'\r\n",
      "        - 'sx'\r\n",
      "        - 'sxnp'\r\n",
      "        - 'sy'\r\n",
      "        - 'gx'\r\n",
      "        - 'gxf'\r\n",
      "        - 'gy'\r\n",
      "        - 'gyf'\r\n",
      "        - 'rr'\r\n",
      "        - 'rrv'\r\n",
      "        - 'isgriduehdf5'\r\n",
      "        - 'nxomit'\r\n",
      "        - 'nyomitmx'\r\n",
      "        - 'geometry'\r\n",
      "        - 'isnonog'\r\n",
      "    grd:\r\n",
      "        - 'nplate1'\r\n",
      "        - 'rplate1'\r\n",
      "        - 'zplate1'\r\n",
      "        - 'nplate2'\r\n",
      "        - 'rplate2'\r\n",
      "        - 'zplate2'\r\n",
      "    bbb:\r\n",
      "        - 'mhdgeo'\r\n",
      "        - 'gengrid'\r\n",
      "        - 'GridFileName'\r\n",
      "        - 'ixmp'\r\n",
      "        - 'ixp1'\r\n",
      "        - 'ixm1'\r\n",
      "\r\n",
      "diffusivities:\r\n",
      "    bbb:\r\n",
      "        - 'isbohmcalc'\r\n",
      "        - 'kye_use'\r\n",
      "        - 'kyi_use'\r\n",
      "        - 'dif_use'\r\n",
      "        - 'tray_use'\r\n",
      "        - 'kyev'\r\n",
      "        - 'kyiv'\r\n",
      "        - 'difniv'\r\n",
      "        - 'travisv'\r\n",
      "        - 'kye'\r\n",
      "        - 'kyi'\r\n",
      "        - 'difni'\r\n"
     ]
    }
   ],
   "source": [
    "!more ../../src/uetools/yamls/requiredvariables.yaml | head -100\n"
   ]
  },
  {
   "cell_type": "markdown",
   "id": "7b9988b6",
   "metadata": {},
   "source": [
    "It is, however, useful to consider the resulting Python dictionary, which is used by UETOOLS for defining the variables that are always included in the save-file:"
   ]
  },
  {
   "cell_type": "code",
   "execution_count": 3,
   "id": "a67fe0e0",
   "metadata": {},
   "outputs": [
    {
     "name": "stdout",
     "output_type": "stream",
     "text": [
      "requiredvariables.yaml contains the following variable decks:\n",
      "============================================================\n",
      "- restore\n",
      "- grid\n",
      "- diffusivities\n",
      "- setup\n",
      "- species\n"
     ]
    }
   ],
   "source": [
    "required = c.tools.readyaml(\"../../src/uetools/yamls/requiredvariables.yaml\")\n",
    "print(\"requiredvariables.yaml contains the following variable decks:\")\n",
    "print(60*\"=\")\n",
    "for deck in required.keys():\n",
    "    print(\"-\", deck)"
   ]
  },
  {
   "cell_type": "markdown",
   "id": "78de001f",
   "metadata": {},
   "source": [
    "Each of the variable \"decks\" contains the UEDGE packages ot the variables as subdictionaries according to the specifier YAML file, and terminates at the third level with a list of variables in that package to be saved:"
   ]
  },
  {
   "cell_type": "code",
   "execution_count": 4,
   "id": "b9c0519d",
   "metadata": {},
   "outputs": [
    {
     "name": "stdout",
     "output_type": "stream",
     "text": [
      "<restore>\n",
      "     bbb\n",
      "        - tes\n",
      "        - tis\n",
      "        - nis\n",
      "        - ngs\n",
      "        - tgs\n",
      "        - ups\n",
      "        - phis\n",
      "        - restart\n"
     ]
    }
   ],
   "source": [
    "print(\"<restore>\")\n",
    "for packagekey, package in required[\"restore\"].items():\n",
    "    print(\"    \",packagekey)\n",
    "    for variable in package:\n",
    "        print(\"        -\", variable)"
   ]
  },
  {
   "cell_type": "markdown",
   "id": "0ec23779",
   "metadata": {},
   "source": [
    "Each of the variable decks specify the required variables for a specific part of the code:\n",
    " - restore: contains the state-variables, used to restore the state of the equation\n",
    " \n",
    " - grid: contains the data required to construc the computational mesh\n",
    "    - Some additional data is stored to ensure plotting routines will work and that data from the EFIT files are not lost when reading grids from a file\n",
    "    \n",
    "- diffusivities: contains the diffusivity profiles, in case they are used\n",
    "    - All of the variables are stored regardless of the model used in each case\n",
    "    - For more information, see Chapter 7\n",
    "    \n",
    "- setup: a small set of miscellaneous variables that defines the case setup\n",
    "\n",
    "All of the above data is automatically read from the appropriate YAML file supplied by the UETOOLS module, and stored to UETOOLS save-files.\n",
    "\n",
    "### Optional variable YAML specifier<a class=\"anchor\" id=\"optional-yaml\"></a>\n",
    "Additional to be written to the UETOOLS save-files can be specified/controlled using an external YAML file. In case no user-specified YAML file is defined when creating a Case-object, a default YAML files is used to specify additional data to be written to the save file:"
   ]
  },
  {
   "cell_type": "code",
   "execution_count": 5,
   "id": "b2f35d90",
   "metadata": {},
   "outputs": [
    {
     "name": "stdout",
     "output_type": "stream",
     "text": [
      "../../uetools/yamls/standardvariables.yaml: No such file or directory\r\n"
     ]
    }
   ],
   "source": [
    "!more ../../uetools/yamls/standardvariables.yaml | head -n 150"
   ]
  },
  {
   "cell_type": "markdown",
   "id": "ffb0f2b4",
   "metadata": {},
   "source": [
    "The optinal variable YAML specifier has the same structure as the required variable YAML specifier: the first level specifies variable \"decks\", which contain the UEDGE packages where the variables are located, and the third level contains a list of variables to be written to the save file. There are no restrictions on the number of variable decks or variables within the decks that are written to the save-file. \n",
    "\n",
    "The Python structure of the above file is the following:"
   ]
  },
  {
   "cell_type": "code",
   "execution_count": 6,
   "id": "7186609b",
   "metadata": {},
   "outputs": [
    {
     "name": "stdout",
     "output_type": "stream",
     "text": [
      "satndardvariables.yaml contains the following variable decks:\n",
      "============================================================\n",
      "- constants\n",
      "- centered\n",
      "- staggered\n",
      "- boundary\n",
      "- postprocessed\n"
     ]
    }
   ],
   "source": [
    "optional = c.tools.readyaml(\"../../src/uetools/yamls/standardvariables.yaml\")\n",
    "print(\"satndardvariables.yaml contains the following variable decks:\")\n",
    "print(60*\"=\")\n",
    "for deck in optional.keys():\n",
    "    print(\"-\", deck)"
   ]
  },
  {
   "cell_type": "markdown",
   "id": "66006070",
   "metadata": {},
   "source": [
    "The variables specified in each of the above decks are variables that are used by various internal UETOOLS functions, which is why they have been included. Removing any of the variables may break certain UETOOLS functionalities, but should not affect the ability to restore cases from YAML inputs/UTEOOLS save files."
   ]
  },
  {
   "cell_type": "markdown",
   "id": "24b3a28e",
   "metadata": {},
   "source": [
    "### YAMLs in Case objects<a class=\"anchor\" id=\"yamls-in-cases\"></a>\n",
    "The two YAML specifiers are concatenated and stored to the UETOOLS Case object, and the dictionary is accessed when Case.save is called. Case.save iterates the dictionary and stores every variable in the save-file using the structure specified by the save-files."
   ]
  },
  {
   "cell_type": "code",
   "execution_count": 7,
   "id": "a3c113b6",
   "metadata": {},
   "outputs": [
    {
     "name": "stdout",
     "output_type": "stream",
     "text": [
      "The Case object contains the following variable decks:\n",
      "============================================================\n",
      "- restore\n",
      "- grid\n",
      "- diffusivities\n",
      "- setup\n",
      "- species\n",
      "- constants\n",
      "- centered\n",
      "- staggered\n",
      "- boundary\n",
      "- postprocessed\n"
     ]
    }
   ],
   "source": [
    "print(\"The Case object contains the following variable decks:\")\n",
    "print(60*\"=\")\n",
    "for deck in c.variables['input'].keys():\n",
    "    print(\"-\", deck)"
   ]
  },
  {
   "cell_type": "markdown",
   "id": "adbb010b",
   "metadata": {},
   "source": [
    "## User-supplied variable YAML specifiers<a class=\"anchor\" id=\"user-supplied-yamls\"></a>\n",
    "As mentioned above, the optional YAML specifier can be a user-specified YAML file, rather than the standard YAML file. The optional YAML specifier can be specified either by configuring the .uetoolsrc file using Case.CreatConfig function (see Chapter 1), editing the .uetoolsrc-file manually, or by supplying the kwarg \"variableyamlfile\" when a Case object is created. \n",
    "\n",
    "\n",
    "    \n",
    "The kwarg \"variableyamlfile\" takes precedence over any other optional variable YAML specifiers. If the kwarg is not used when a Case object is created, UETOOLS will look for the \"variableyamlfile\" in the .uetoolsrc YAML file. The \"variableyamlfile\" can be added to .uetoolsrc (located in the user HOME-directory) by re-running the Case.CreateConfig function and following the prompts. Alternatively, the \"variableyamlfile\" argument can be added manually by editing the .uetoolsrc-file (or creating it in the user HOME-directory, if it does not exist) and adding the following line:\n",
    "\n",
    "    variableyamlfile: <path to optional variable YAML specifier>\n",
    "    \n",
    "**NOTE:** as mentioned above, removing variables compared to the default YAML file may result in some functionalities of UETOOLS no longer working. \n",
    "\n",
    "**NOTE:** when implementing functionalities to UETOOLS that require additional variables to be available from save-files that are added to a user's optional variable YAML specifiers, other users' YAML specifiers may not contain the additional data, causing the funcitonality to fail. Thus, it is recommended to update the UETOOLS default optional variable YAML specifier in pull-requests that add capabilities to UETOOLS, which assumes some data to be available in the save-files.\n",
    "\n",
    "## The UETOOLS save-file<a class=\"anchor\" id=\"save-files\"></a>\n",
    "Now that YAML specifiers are understood, it is time to look at the data written to UETOOLS save-files by Case.save:"
   ]
  },
  {
   "cell_type": "code",
   "execution_count": 8,
   "id": "b60c052c",
   "metadata": {},
   "outputs": [
    {
     "name": "stdout",
     "output_type": "stream",
     "text": [
      "<HDF5 file \"nc20.hdf5\" (mode r)>\n",
      "├── boundary\n",
      "├── centered\n",
      "├── constants\n",
      "├── diffusivities\n",
      "├── grid\n",
      "├── postprocessed\n",
      "├── restore\n",
      "├── setup\n",
      "├── species\n",
      "└── staggered\n"
     ]
    }
   ],
   "source": [
    "c.tools.hdf5tree(\"nc20.hdf5\", depth=1)"
   ]
  },
  {
   "cell_type": "markdown",
   "id": "69dca23e",
   "metadata": {},
   "source": [
    "As can be seen, all the variable decks specified by the two YAML specifiers are also present in the save-file. Additionally, the structure defined by the YAML specifier is preserved throughout:"
   ]
  },
  {
   "cell_type": "code",
   "execution_count": 9,
   "id": "c758c9f1",
   "metadata": {},
   "outputs": [
    {
     "name": "stdout",
     "output_type": "stream",
     "text": [
      "<HDF5 file \"nc20.hdf5\" (mode r)>\n",
      "restore\n",
      "└── bbb\n",
      "    ├── ngs (18, 10, 2)\n",
      "    ├── nis (18, 10, 8)\n",
      "    ├── phis (18, 10)\n",
      "    ├── restart (int)\n",
      "    ├── tes (18, 10)\n",
      "    ├── tgs (18, 10, 2)\n",
      "    ├── tis (18, 10)\n",
      "    └── ups (18, 10, 8)\n"
     ]
    }
   ],
   "source": [
    "c.tools.hdf5tree(\"nc20.hdf5\", \"restore\")"
   ]
  },
  {
   "cell_type": "markdown",
   "id": "64fdf8e0",
   "metadata": {},
   "source": [
    "There is, however, a group written to the save-file, which is **not** included in the YAML specifiers, namely the \"setup\" group:"
   ]
  },
  {
   "cell_type": "code",
   "execution_count": 10,
   "id": "d391b449",
   "metadata": {},
   "outputs": [
    {
     "name": "stdout",
     "output_type": "stream",
     "text": [
      "<HDF5 file \"nc20.hdf5\" (mode r)>\n",
      "setup\n",
      "├── atoms\n",
      "├── boundaryconditions\n",
      "├── carbon\n",
      "├── casename (bytes)\n",
      "├── detected\n",
      "├── differencing\n",
      "├── diffusivities\n",
      "├── fluxlim\n",
      "├── grid\n",
      "├── physics\n",
      "├── rates\n",
      "├── recycling\n",
      "├── restart (int)\n",
      "├── savefile (bytes)\n",
      "├── solver\n",
      "└── species\n"
     ]
    }
   ],
   "source": [
    "c.tools.hdf5tree(\"nc20.hdf5\", \"setup\", depth=1)"
   ]
  },
  {
   "cell_type": "markdown",
   "id": "d614d4e4",
   "metadata": {},
   "source": [
    "The setup group, as seen above, contains the input decks specified in the input file, along with any subdecks and vairables specified in each:"
   ]
  },
  {
   "cell_type": "code",
   "execution_count": 11,
   "id": "3c4af6d3",
   "metadata": {},
   "outputs": [
    {
     "name": "stdout",
     "output_type": "stream",
     "text": [
      "<HDF5 file \"nc20.hdf5\" (mode r)>\n",
      "setup/atoms\n",
      "├── cfnidh (float)\n",
      "├── ineudif (int)\n",
      "├── isngon (6)\n",
      "├── isupgon (6)\n",
      "└── ziin (31)\n"
     ]
    }
   ],
   "source": [
    "c.tools.hdf5tree(\"nc20.hdf5\", \"setup/atoms\")"
   ]
  },
  {
   "cell_type": "markdown",
   "id": "bd6d4b1c",
   "metadata": {},
   "source": [
    "Thus, the save-file contains a virtual copy of the UETOOLS input file used to define the case. Any changes to any of the variables defined in the input file will also be updated as they are changed and a save-file written.\n",
    "\n",
    "The special group \"setup/detected\" is also added to all save-files to keep track of changes to input variables which are **not** specified in the UETOOLS YAML input file if changed:"
   ]
  },
  {
   "cell_type": "code",
   "execution_count": 12,
   "id": "048d8be0",
   "metadata": {},
   "outputs": [
    {
     "name": "stdout",
     "output_type": "stream",
     "text": [
      "<HDF5 file \"nc20.hdf5\" (mode r)>\n",
      "setup/detected\n",
      "├── albedoi (18, 2)\n",
      "├── albedoo (18, 2)\n",
      "├── alblb (10, 6, 2)\n",
      "├── albrb (10, 6, 2)\n",
      "├── alfe (8)\n",
      "├── betai (8)\n",
      "├── chgstate_format (7)\n",
      "├── coll_fe (18, 10)\n",
      "├── coll_fi (18, 10)\n",
      "├── dx0 (float)\n",
      "├── effvng (2)\n",
      "├── ennorm (float)\n",
      "├── flalfea (18)\n",
      "├── flalfgxa (18, 10)\n",
      "├── flalfgxya (18, 10)\n",
      "├── flalfgya (10, 10)\n",
      "├── flalfia (18)\n",
      "├── flalftgxa (18)\n",
      "├── flalftgxya (18)\n",
      "├── flalftgya (10)\n",
      "├── flalfva (18)\n",
      "├── flalfvgxa (18)\n",
      "├── flalfvgxya (18)\n",
      "├── flalfvgya (10)\n",
      "├── floor_cons (13)\n",
      "├── fnorm (2)\n",
      "├── iesori (10)\n",
      "├── iesoro (10)\n",
      "├── iscolnorm (int)\n",
      "├── isflxvar (int)\n",
      "├── isrscalf (int)\n",
      "├── issori (10)\n",
      "├── issoro (10)\n",
      "├── isyloext (int)\n",
      "├── ivolcur (8)\n",
      "├── ivolcurg (2)\n",
      "├── ix_ejcsor (int)\n",
      "├── ix_sjcsor (int)\n",
      "├── iy_ejcsor (int)\n",
      "├── iy_sjcsor (int)\n",
      "├── jcvsor (float)\n",
      "├── lynix (2, 18, 8)\n",
      "├── lyphix (2, 18)\n",
      "├── lytex (2, 18)\n",
      "├── lytix (2, 18)\n",
      "├── mvolcur (8)\n",
      "├── n0 (31)\n",
      "├── n0g (6)\n",
      "├── nfsp (int)\n",
      "├── nibprof (10)\n",
      "├── nnorm (float)\n",
      "├── norm_cons (13)\n",
      "├── ponderompot (float)\n",
      "├── pondpot (18, 10)\n",
      "├── psgov_use (18, 10, 2)\n",
      "├── pvole (float)\n",
      "├── pvoli (float)\n",
      "├── pwrsore (18, 10)\n",
      "├── pwrsori (18, 10)\n",
      "├── r0ng (2)\n",
      "├── r0ni (float)\n",
      "├── r0pe (float)\n",
      "├── r0pi (float)\n",
      "├── r0pondp (float)\n",
      "├── r0up (float)\n",
      "├── rcutmin (float)\n",
      "├── rdoff (float)\n",
      "├── recylb (10, 6, 2)\n",
      "├── recyrb (10, 6, 2)\n",
      "├── rwng (2)\n",
      "├── rwni (float)\n",
      "├── rwpe (float)\n",
      "├── rwpi (float)\n",
      "├── rwpondp (float)\n",
      "├── rwup (float)\n",
      "├── sfscal (2342)\n",
      "├── sigbar0 (float)\n",
      "├── suscal (2342)\n",
      "├── tebprof (10)\n",
      "├── temp0 (float)\n",
      "├── tewalli (18)\n",
      "├── tewallo (18)\n",
      "├── thetarot (float)\n",
      "├── tibprof (10)\n",
      "├── tiwalli (18)\n",
      "├── tiwallo (18)\n",
      "├── tvapi (18)\n",
      "├── tvaplb (10, 2)\n",
      "├── tvapo (18)\n",
      "├── tvaprb (10, 2)\n",
      "├── upbprof (10)\n",
      "├── var_scale_floor (float)\n",
      "├── voljcsor (18, 10)\n",
      "├── volmsor (18, 10, 8)\n",
      "├── volpsor (18, 10, 8)\n",
      "├── volpsorg (18, 10, 2)\n",
      "├── vpnorm (float)\n",
      "├── vsf_phi (float)\n",
      "├── vsf_up (float)\n",
      "├── yloext (2342)\n",
      "├── z0ng (2)\n",
      "├── z0ni (float)\n",
      "├── z0pe (float)\n",
      "├── z0pi (float)\n",
      "├── z0pondp (float)\n",
      "├── z0up (float)\n",
      "├── zcutmin (float)\n",
      "├── zwng (2)\n",
      "├── zwni (float)\n",
      "├── zwpe (float)\n",
      "├── zwpi (float)\n",
      "├── zwpondp (float)\n",
      "└── zwup (float)\n"
     ]
    }
   ],
   "source": [
    "c.tools.hdf5tree(\"nc20.hdf5\", \"setup/detected\")"
   ]
  },
  {
   "cell_type": "markdown",
   "id": "64f2ae49",
   "metadata": {},
   "source": [
    "As can be seen, these are the same variables for which changes are detected for, as discussed in Chapter 4. It is this automatical tracking and storing of changes to input variables that allows UETOOLS to use its save-files as standalone setups for UEDGE cases.\n",
    "\n",
    "## Using UETOOLS without UEDGE<a class=\"anchor\" id=\"uetools-without-uedge\"></a>\n",
    "Because UETOOLS saves all the data required by UETOOLS functionalities, this means that UETOOLS can be used to process and investigate UEDGE saves without starting UEDGE. In fact, all UETOOLS functionalities can be used without having UEDGE installed, provided Case objects are created using the inplace=True option (Chapter 2), or the data is analyzed using Database-objects (Chapter 4). \n",
    "\n",
    "## Case.dump<a class=\"anchor\" id=\"case-dump\"></a>\n",
    "There are, however, situations when a a complete UEDGE state may need to be archived or analyzed outside of UEDGE. For such exceptions, the Case.dump function can be used to write **all** UEDGE variables to a UETOOLS save-file. This save-file is a complete archive of the UEDGE case, and any UEDGE variable available can be accessed using UETOOLS.\n",
    "\n",
    "**NOTE:** because UEDGE has ~3700 variables, the on-disk size of a UETOOLS dump for a UEDGE case with 7 ion and 2 gas species on a 106x46 grid is 1.1 Gb. Thus, it is not feasible to create dumps for all files. In contrast, the save-file for the same case, using the default variables written, was 9.2 Mb."
   ]
  }
 ],
 "metadata": {
  "kernelspec": {
   "display_name": "Python 3 (ipykernel)",
   "language": "python",
   "name": "python3"
  },
  "language_info": {
   "codemirror_mode": {
    "name": "ipython",
    "version": 3
   },
   "file_extension": ".py",
   "mimetype": "text/x-python",
   "name": "python",
   "nbconvert_exporter": "python",
   "pygments_lexer": "ipython3",
   "version": "3.11.4"
  }
 },
 "nbformat": 4,
 "nbformat_minor": 5
}
